{
  "nbformat": 4,
  "nbformat_minor": 0,
  "metadata": {
    "colab": {
      "provenance": []
    },
    "kernelspec": {
      "name": "python3",
      "display_name": "Python 3"
    },
    "language_info": {
      "name": "python"
    }
  },
  "cells": [
    {
      "cell_type": "code",
      "source": [
        "import pandas as pd\n",
        "from sklearn.feature_extraction.text import TfidfVectorizer\n",
        "from sklearn.naive_bayes import MultinomialNB\n",
        "from sklearn.linear_model import LogisticRegression\n",
        "from sklearn.model_selection import train_test_split\n",
        "from sklearn.metrics import accuracy_score, classification_report, confusion_matrix, precision_score, recall_score, f1_score\n",
        "import chardet  # Library for encoding detection\n",
        "import matplotlib.pyplot as plt\n",
        "import seaborn as sns\n",
        "import nltk"
      ],
      "metadata": {
        "id": "0e3SHEvdpNDZ"
      },
      "execution_count": 1,
      "outputs": []
    },
    {
      "cell_type": "code",
      "source": [
        "# Download NLTK stopwords\n",
        "nltk.download('stopwords')\n",
        "from nltk.corpus import stopwords\n",
        "from nltk.stem import PorterStemmer\n",
        "import string"
      ],
      "metadata": {
        "colab": {
          "base_uri": "https://localhost:8080/"
        },
        "id": "9b6WuACOrApb",
        "outputId": "4e825897-2afd-49fc-dac7-2a7ad7599edb"
      },
      "execution_count": 2,
      "outputs": [
        {
          "output_type": "stream",
          "name": "stderr",
          "text": [
            "[nltk_data] Downloading package stopwords to /root/nltk_data...\n",
            "[nltk_data]   Unzipping corpora/stopwords.zip.\n"
          ]
        }
      ]
    },
    {
      "cell_type": "code",
      "source": [
        "# Function to handle potential encoding errors while reading the CSV\n",
        "def read_data(filename):\n",
        "    try:\n",
        "        # Try reading with UTF-8 encoding\n",
        "        data = pd.read_csv(filename, encoding='utf-8')\n",
        "        return data\n",
        "    except UnicodeDecodeError:\n",
        "        # If UTF-8 fails, attempt automatic encoding detection\n",
        "        with open(filename, 'rb') as rawdata:\n",
        "            result = chardet.detect(rawdata.read())\n",
        "            encoding = result['encoding']\n",
        "        # Read the data with the detected encoding\n",
        "        data = pd.read_csv(filename, encoding=encoding)\n",
        "        return data"
      ],
      "metadata": {
        "id": "Lo_8kKHdrDMf"
      },
      "execution_count": 3,
      "outputs": []
    },
    {
      "cell_type": "code",
      "source": [
        "# Load SMS dataset\n",
        "data = read_data('/content/drive/MyDrive/CODSOFT/spam.csv')"
      ],
      "metadata": {
        "id": "qpb3eVABrFro"
      },
      "execution_count": 4,
      "outputs": []
    },
    {
      "cell_type": "code",
      "source": [
        "# Print dataset information\n",
        "print(\"Head of the dataset:\")\n",
        "print(data.head())"
      ],
      "metadata": {
        "colab": {
          "base_uri": "https://localhost:8080/"
        },
        "id": "_NtMlsP_rIXm",
        "outputId": "2e146fa5-9b23-49a1-a07f-eb513cb14350"
      },
      "execution_count": 5,
      "outputs": [
        {
          "output_type": "stream",
          "name": "stdout",
          "text": [
            "Head of the dataset:\n",
            "     v1                                                 v2 Unnamed: 2  \\\n",
            "0   ham  Go until jurong point, crazy.. Available only ...        NaN   \n",
            "1   ham                      Ok lar... Joking wif u oni...        NaN   \n",
            "2  spam  Free entry in 2 a wkly comp to win FA Cup fina...        NaN   \n",
            "3   ham  U dun say so early hor... U c already then say...        NaN   \n",
            "4   ham  Nah I don't think he goes to usf, he lives aro...        NaN   \n",
            "\n",
            "  Unnamed: 3 Unnamed: 4  \n",
            "0        NaN        NaN  \n",
            "1        NaN        NaN  \n",
            "2        NaN        NaN  \n",
            "3        NaN        NaN  \n",
            "4        NaN        NaN  \n"
          ]
        }
      ]
    },
    {
      "cell_type": "code",
      "source": [
        "print(\"\\nTail of the dataset:\")\n",
        "print(data.tail())"
      ],
      "metadata": {
        "colab": {
          "base_uri": "https://localhost:8080/"
        },
        "id": "YHviTO3-rKoh",
        "outputId": "ae682e89-2270-41ee-8853-bf3b0a520403"
      },
      "execution_count": 6,
      "outputs": [
        {
          "output_type": "stream",
          "name": "stdout",
          "text": [
            "\n",
            "Tail of the dataset:\n",
            "        v1                                                 v2 Unnamed: 2  \\\n",
            "5567  spam  This is the 2nd time we have tried 2 contact u...        NaN   \n",
            "5568   ham              Will Ì_ b going to esplanade fr home?        NaN   \n",
            "5569   ham  Pity, * was in mood for that. So...any other s...        NaN   \n",
            "5570   ham  The guy did some bitching but I acted like i'd...        NaN   \n",
            "5571   ham                         Rofl. Its true to its name        NaN   \n",
            "\n",
            "     Unnamed: 3 Unnamed: 4  \n",
            "5567        NaN        NaN  \n",
            "5568        NaN        NaN  \n",
            "5569        NaN        NaN  \n",
            "5570        NaN        NaN  \n",
            "5571        NaN        NaN  \n"
          ]
        }
      ]
    },
    {
      "cell_type": "code",
      "source": [
        "print(\"\\nInfo of the dataset:\")\n",
        "print(data.info())"
      ],
      "metadata": {
        "colab": {
          "base_uri": "https://localhost:8080/"
        },
        "id": "U07CFXrfrMyZ",
        "outputId": "eff82b61-36a2-4e40-9798-cf9e96558c8c"
      },
      "execution_count": 7,
      "outputs": [
        {
          "output_type": "stream",
          "name": "stdout",
          "text": [
            "\n",
            "Info of the dataset:\n",
            "<class 'pandas.core.frame.DataFrame'>\n",
            "RangeIndex: 5572 entries, 0 to 5571\n",
            "Data columns (total 5 columns):\n",
            " #   Column      Non-Null Count  Dtype \n",
            "---  ------      --------------  ----- \n",
            " 0   v1          5572 non-null   object\n",
            " 1   v2          5572 non-null   object\n",
            " 2   Unnamed: 2  50 non-null     object\n",
            " 3   Unnamed: 3  12 non-null     object\n",
            " 4   Unnamed: 4  6 non-null      object\n",
            "dtypes: object(5)\n",
            "memory usage: 217.8+ KB\n",
            "None\n"
          ]
        }
      ]
    },
    {
      "cell_type": "code",
      "source": [
        "print(\"\\nDescriptive statistics of the dataset:\")\n",
        "print(data.describe())"
      ],
      "metadata": {
        "colab": {
          "base_uri": "https://localhost:8080/"
        },
        "id": "vsx_GWuorO_a",
        "outputId": "e9781db0-6fc0-4ebb-c1f1-5886438e87f6"
      },
      "execution_count": 8,
      "outputs": [
        {
          "output_type": "stream",
          "name": "stdout",
          "text": [
            "\n",
            "Descriptive statistics of the dataset:\n",
            "          v1                      v2  \\\n",
            "count   5572                    5572   \n",
            "unique     2                    5169   \n",
            "top      ham  Sorry, I'll call later   \n",
            "freq    4825                      30   \n",
            "\n",
            "                                               Unnamed: 2  \\\n",
            "count                                                  50   \n",
            "unique                                                 43   \n",
            "top      bt not his girlfrnd... G o o d n i g h t . . .@\"   \n",
            "freq                                                    3   \n",
            "\n",
            "                   Unnamed: 3 Unnamed: 4  \n",
            "count                      12          6  \n",
            "unique                     10          5  \n",
            "top      MK17 92H. 450Ppw 16\"    GNT:-)\"  \n",
            "freq                        2          2  \n"
          ]
        }
      ]
    },
    {
      "cell_type": "code",
      "source": [
        "# Separate text messages and labels (spam or ham)\n",
        "text = data['v2']\n",
        "label = data['v1'].map({'ham': 0, 'spam': 1})  # Encode labels"
      ],
      "metadata": {
        "id": "VuqLZPoTrRpY"
      },
      "execution_count": 9,
      "outputs": []
    },
    {
      "cell_type": "code",
      "source": [
        "# Preprocess text data (cleaning & converting to lowercase)\n",
        "def clean_text(text):\n",
        "    text = text.lower()  # convert to lowercase\n",
        "    # Remove punctuation\n",
        "    text = ''.join([char for char in text if char not in string.punctuation])\n",
        "    # Remove stopwords\n",
        "    stop_words = set(stopwords.words('english'))\n",
        "    text = ' '.join([word for word in text.split() if word not in stop_words])\n",
        "    # Stem words\n",
        "    stemmer = PorterStemmer()\n",
        "    text = ' '.join([stemmer.stem(word) for word in text.split()])\n",
        "    return text\n",
        "\n",
        "text = text.apply(clean_text)"
      ],
      "metadata": {
        "id": "sTXPR_aMrVnt"
      },
      "execution_count": 10,
      "outputs": []
    },
    {
      "cell_type": "code",
      "source": [
        "# Feature Engineering - TF-IDF vectorization\n",
        "vectorizer = TfidfVectorizer()\n",
        "features = vectorizer.fit_transform(text)\n",
        "\n",
        "# Train-Test Split\n",
        "X_train, X_test, y_train, y_test = train_test_split(features, label, test_size=0.2, random_state=42)\n",
        "\n",
        "# Train Multinomial Naive Bayes model\n",
        "nb_model = MultinomialNB()\n",
        "nb_model.fit(X_train, y_train)\n",
        "\n",
        "# Test model performance on unseen data\n",
        "y_pred_nb = nb_model.predict(X_test)\n",
        "\n",
        "# Train Logistic Regression model\n",
        "lr_model = LogisticRegression(max_iter=1000)\n",
        "lr_model.fit(X_train, y_train)\n",
        "\n",
        "# Test model performance on unseen data\n",
        "y_pred_lr = lr_model.predict(X_test)\n",
        "\n",
        "# Evaluate models (accuracy, precision, recall, etc.)\n",
        "print(\"\\nMultinomial Naive Bayes Model\")\n",
        "print(\"Accuracy:\", accuracy_score(y_test, y_pred_nb))\n",
        "print(\"Classification Report:\")\n",
        "print(classification_report(y_test, y_pred_nb))\n",
        "print(\"Confusion Matrix:\")\n",
        "print(confusion_matrix(y_test, y_pred_nb))\n",
        "\n",
        "print(\"\\nLogistic Regression Model\")\n",
        "print(\"Accuracy:\", accuracy_score(y_test, y_pred_lr))\n",
        "print(\"Classification Report:\")\n",
        "print(classification_report(y_test, y_pred_lr))\n",
        "print(\"Confusion Matrix:\")\n",
        "print(confusion_matrix(y_test, y_pred_lr))"
      ],
      "metadata": {
        "colab": {
          "base_uri": "https://localhost:8080/"
        },
        "id": "BUX7suCGrc6K",
        "outputId": "dbbe778d-6bda-4e79-aff4-4fc3284b3031"
      },
      "execution_count": 11,
      "outputs": [
        {
          "output_type": "stream",
          "name": "stdout",
          "text": [
            "\n",
            "Multinomial Naive Bayes Model\n",
            "Accuracy: 0.9614349775784753\n",
            "Classification Report:\n",
            "              precision    recall  f1-score   support\n",
            "\n",
            "           0       0.96      1.00      0.98       965\n",
            "           1       1.00      0.71      0.83       150\n",
            "\n",
            "    accuracy                           0.96      1115\n",
            "   macro avg       0.98      0.86      0.91      1115\n",
            "weighted avg       0.96      0.96      0.96      1115\n",
            "\n",
            "Confusion Matrix:\n",
            "[[965   0]\n",
            " [ 43 107]]\n",
            "\n",
            "Logistic Regression Model\n",
            "Accuracy: 0.9443946188340807\n",
            "Classification Report:\n",
            "              precision    recall  f1-score   support\n",
            "\n",
            "           0       0.94      1.00      0.97       965\n",
            "           1       0.96      0.61      0.75       150\n",
            "\n",
            "    accuracy                           0.94      1115\n",
            "   macro avg       0.95      0.80      0.86      1115\n",
            "weighted avg       0.95      0.94      0.94      1115\n",
            "\n",
            "Confusion Matrix:\n",
            "[[961   4]\n",
            " [ 58  92]]\n"
          ]
        }
      ]
    },
    {
      "cell_type": "code",
      "source": [
        "# Function to plot Confusion Matrix\n",
        "def plot_confusion_matrix(y_test, y_pred, model_name):\n",
        "    cm = confusion_matrix(y_test, y_pred)\n",
        "    plt.figure(figsize=(6, 4))\n",
        "    sns.heatmap(cm, annot=True, fmt='d', cmap='Blues')\n",
        "    plt.title(f'Confusion Matrix for {model_name}')\n",
        "    plt.xlabel('Predicted')\n",
        "    plt.ylabel('Actual')\n",
        "    plt.show()\n"
      ],
      "metadata": {
        "id": "HiuT8mBKrfhr"
      },
      "execution_count": 12,
      "outputs": []
    },
    {
      "cell_type": "code",
      "source": [
        "# Plot Confusion Matrices\n",
        "plot_confusion_matrix(y_test, y_pred_nb, \"Multinomial Naive Bayes\")\n",
        "plot_confusion_matrix(y_test, y_pred_lr, \"Logistic Regression\")\n"
      ],
      "metadata": {
        "colab": {
          "base_uri": "https://localhost:8080/",
          "height": 803
        },
        "id": "pE7ot4yQriJo",
        "outputId": "3a8c6cd0-82ff-4eca-e477-5b60948a88b8"
      },
      "execution_count": 13,
      "outputs": [
        {
          "output_type": "display_data",
          "data": {
            "text/plain": [
              "<Figure size 600x400 with 2 Axes>"
            ],
            "image/png": "[encoded data removed]"
          },
          "metadata": {}
        },
        {
          "output_type": "display_data",
          "data": {
            "text/plain": [
              "<Figure size 600x400 with 2 Axes>"
            ],
            "image/png": "[encoded data removed]"
          },
          "metadata": {}
        }
      ]
    },
    {
      "cell_type": "code",
      "source": [
        "# Function to predict spam for a new message\n",
        "def predict_spam(message, model):\n",
        "    # Clean and vectorize the message\n",
        "    message = clean_text(message)\n",
        "    message_features = vectorizer.transform([message])\n",
        "    # Predict using the trained model\n",
        "    prediction = model.predict(message_features)\n",
        "    return prediction[0]\n"
      ],
      "metadata": {
        "id": "kFGqHyMXrkyP"
      },
      "execution_count": 14,
      "outputs": []
    },
    {
      "cell_type": "code",
      "source": [
        "# Calculate precision, recall, f1-score, and accuracy for Multinomial Naive Bayes\n",
        "precision_nb = precision_score(y_test, y_pred_nb)\n",
        "recall_nb = recall_score(y_test, y_pred_nb)\n",
        "f1_nb = f1_score(y_test, y_pred_nb)\n",
        "accuracy_nb = accuracy_score(y_test, y_pred_nb)\n",
        "\n",
        "# Calculate precision, recall, f1-score, and accuracy for Logistic Regression\n",
        "precision_lr = precision_score(y_test, y_pred_lr)\n",
        "recall_lr = recall_score(y_test, y_pred_lr)\n",
        "f1_lr = f1_score(y_test, y_pred_lr)\n",
        "accuracy_lr = accuracy_score(y_test, y_pred_lr)\n",
        "\n",
        "# Print evaluation metrics for Multinomial Naive Bayes\n",
        "print(\"\\nEvaluation metrics for Multinomial Naive Bayes Model:\")\n",
        "print(\"Precision:\", precision_nb)\n",
        "print(\"Recall:\", recall_nb)\n",
        "print(\"F1-score:\", f1_nb)\n",
        "print(\"Accuracy:\", accuracy_nb)\n",
        "\n",
        "# Print evaluation metrics for Logistic Regression\n",
        "print(\"\\nEvaluation metrics for Logistic Regression Model:\")\n",
        "print(\"Precision:\", precision_lr)\n",
        "print(\"Recall:\", recall_lr)\n",
        "print(\"F1-score:\", f1_lr)\n",
        "print(\"Accuracy:\", accuracy_lr)\n",
        "\n",
        "# Example usage of the prediction function\n",
        "new_message_1 = \"XXXMobileMovieClub: To use your credit, click the WAP link in the next txt message or click here>> http://wap. xxxmobilemovieclub.com?n=QJKGIGHJJGCBL\"\n",
        "spam_1 = predict_spam(new_message_1, nb_model)\n",
        "print(\"\\nPrediction for the new message:\")\n",
        "print(\"\\nXXXMobileMovieClub: To use your credit, click the WAP link in the next txt message or click here>> http://wap. xxxmobilemovieclub.com?n=QJKGIGHJJGCBL\")\n",
        "if spam_1:\n",
        "    print(\"This message is likely spam.\")\n",
        "else:\n",
        "    print(\"This message is likely not spam.\")\n",
        "\n",
        "new_message_2 = \"No no. I will check all rooms before activities\"\n",
        "spam_2 = predict_spam(new_message_2, nb_model)\n",
        "print(\"\\nPrediction for the new message:\")\n",
        "print(\"\\nNo no. I will check all rooms before activities\")\n",
        "if spam_2:\n",
        "    print(\"This message is likely spam.\")\n",
        "else:\n",
        "    print(\"This message is likely not spam.\")"
      ],
      "metadata": {
        "colab": {
          "base_uri": "https://localhost:8080/"
        },
        "id": "xFpZHMxiroYd",
        "outputId": "fb36856a-d5d7-4053-bb3e-0838301f1caa"
      },
      "execution_count": 15,
      "outputs": [
        {
          "output_type": "stream",
          "name": "stdout",
          "text": [
            "\n",
            "Evaluation metrics for Multinomial Naive Bayes Model:\n",
            "Precision: 1.0\n",
            "Recall: 0.7133333333333334\n",
            "F1-score: 0.8326848249027238\n",
            "Accuracy: 0.9614349775784753\n",
            "\n",
            "Evaluation metrics for Logistic Regression Model:\n",
            "Precision: 0.9583333333333334\n",
            "Recall: 0.6133333333333333\n",
            "F1-score: 0.7479674796747966\n",
            "Accuracy: 0.9443946188340807\n",
            "\n",
            "Prediction for the new message:\n",
            "\n",
            "XXXMobileMovieClub: To use your credit, click the WAP link in the next txt message or click here>> http://wap. xxxmobilemovieclub.com?n=QJKGIGHJJGCBL\n",
            "This message is likely not spam.\n",
            "\n",
            "Prediction for the new message:\n",
            "\n",
            "No no. I will check all rooms before activities\n",
            "This message is likely not spam.\n"
          ]
        }
      ]
    }
  ]
}